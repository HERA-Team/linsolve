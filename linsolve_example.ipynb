{
 "cells": [
  {
   "cell_type": "markdown",
   "metadata": {
    "run_control": {
     "frozen": false,
     "read_only": false
    }
   },
   "source": [
    "# `linsolve` Quickstart Guide\n",
    "\n",
    "linsolve is a module providing high-level tools for (linearizing and) performing a least-squares optimization on a system of equations."
   ]
  },
  {
   "cell_type": "code",
   "execution_count": 1,
   "metadata": {
    "ExecuteTime": {
     "end_time": "2018-01-19T02:24:24.391280Z",
     "start_time": "2018-01-19T02:24:24.285648Z"
    },
    "collapsed": true,
    "run_control": {
     "frozen": false,
     "read_only": false
    }
   },
   "outputs": [],
   "source": [
    "import numpy as np\n",
    "import linsolve"
   ]
  },
  {
   "cell_type": "markdown",
   "metadata": {
    "run_control": {
     "frozen": false,
     "read_only": false
    }
   },
   "source": [
    "## Solving Linear Least-Squares Systems of Equations with `LinearSolver`\n",
    "\n",
    "In `linsolve`, data is expressed as python dictionary object where equations are passed in as a dictionary where which maps strings containing all unknowns (the RHS of the system) to numbers (the LHS of the system). The strings are parsed according to python syntax and all variables are automatically identified (as long as they are valid python variable names) and solved for.\n",
    "\n",
    "For background, see <https://en.wikipedia.org/wiki/Linear_least_squares_(mathematics)>\n",
    "\n",
    "As an example, here is how you would the following system\n",
    "\n",
    "$3 x + 4 y = 11 \\\\ -x -3y = -7$"
   ]
  },
  {
   "cell_type": "code",
   "execution_count": 2,
   "metadata": {
    "ExecuteTime": {
     "end_time": "2018-01-19T02:24:24.476018Z",
     "start_time": "2018-01-19T02:24:24.392736Z"
    },
    "run_control": {
     "frozen": false,
     "read_only": false
    }
   },
   "outputs": [
    {
     "name": "stdout",
     "output_type": "stream",
     "text": [
      "{'y': 2.0, 'x': 1.0}\n"
     ]
    }
   ],
   "source": [
    "#Set up dictionary of equations\n",
    "data = {'3*x+4*y': 11.0, '-1*x-3*y': -7.0}\n",
    "\n",
    "#Build solver\n",
    "ls = linsolve.LinearSolver(data)\n",
    "\n",
    "#Execute solver\n",
    "sol = ls.solve()\n",
    "print sol"
   ]
  },
  {
   "cell_type": "markdown",
   "metadata": {
    "run_control": {
     "frozen": false,
     "read_only": false
    }
   },
   "source": [
    "### Array Systems\n",
    "\n",
    "Often, it its useful to solve the same system of equations for many different \"measurements\" on the LHS of the system of equations. In this case, the dictionary of equations can map strings to $N$-dimensional numpy arrays."
   ]
  },
  {
   "cell_type": "code",
   "execution_count": 3,
   "metadata": {
    "ExecuteTime": {
     "end_time": "2018-01-19T02:24:24.482718Z",
     "start_time": "2018-01-19T02:24:24.477381Z"
    },
    "run_control": {
     "frozen": false,
     "read_only": false
    }
   },
   "outputs": [
    {
     "name": "stdout",
     "output_type": "stream",
     "text": [
      "{'y': array([ 2.,  4.]), 'x': array([ 1.,  2.])}\n"
     ]
    }
   ],
   "source": [
    "data = {'3*x+4*y': np.array([11.0,22.0]), '-1*x-3*y': np.array([-7.0,-14.0])}\n",
    "ls = linsolve.LinearSolver(data)\n",
    "sol = ls.solve()\n",
    "print sol"
   ]
  },
  {
   "cell_type": "markdown",
   "metadata": {
    "run_control": {
     "frozen": false,
     "read_only": false
    }
   },
   "source": [
    "### Constants\n",
    "\n",
    "While all terms that evaluate to valid python variables in the dictionary keys are assumed to be variables, it is possible to designate some of them as constants. They are passed `LinearSolver` via its `kwargs`. Constants can be expressed either as single numbers or as arrays that have the same shape as the data, allowing the equations to change between solves."
   ]
  },
  {
   "cell_type": "code",
   "execution_count": 4,
   "metadata": {
    "ExecuteTime": {
     "end_time": "2018-01-19T02:24:24.489791Z",
     "start_time": "2018-01-19T02:24:24.483992Z"
    },
    "run_control": {
     "frozen": false,
     "read_only": false
    }
   },
   "outputs": [
    {
     "name": "stdout",
     "output_type": "stream",
     "text": [
      "{'y': array([ 2., -2.]), 'x': array([  1.,  10.])}\n"
     ]
    }
   ],
   "source": [
    "data = {'3*x+a*y': np.array([11.0,22.0]), 'b*x-3*y': np.array([-7.0,-14.0])}\n",
    "ls = linsolve.LinearSolver(data, a=4, b=np.array([-1,-2]))\n",
    "sol = ls.solve()\n",
    "print sol"
   ]
  },
  {
   "cell_type": "markdown",
   "metadata": {
    "run_control": {
     "frozen": false,
     "read_only": false
    }
   },
   "source": [
    "### Complex Conjugation \n",
    "\n",
    "Complex conjugation of variables is accomplished via trailing underscore in the variable name."
   ]
  },
  {
   "cell_type": "code",
   "execution_count": 5,
   "metadata": {
    "ExecuteTime": {
     "end_time": "2018-01-19T02:24:24.496329Z",
     "start_time": "2018-01-19T02:24:24.491192Z"
    },
    "run_control": {
     "frozen": false,
     "read_only": false
    }
   },
   "outputs": [
    {
     "name": "stdout",
     "output_type": "stream",
     "text": [
      "{'y': (1-1j), 'x': (1+1j)}\n"
     ]
    }
   ],
   "source": [
    "data = {'x': 1.0+1.0j, 'y_': 1.0+1.0j}\n",
    "ls = linsolve.LinearSolver(data)\n",
    "sol = ls.solve()\n",
    "print sol"
   ]
  },
  {
   "cell_type": "markdown",
   "metadata": {
    "run_control": {
     "frozen": false,
     "read_only": false
    }
   },
   "source": [
    "### Weights\n",
    "\n",
    "When a system of equations is overdetermined (as is usually the case in data analysis), `linsolve` lets you apply different weights to each equation. The default behavior is to weight all equations equally."
   ]
  },
  {
   "cell_type": "code",
   "execution_count": 6,
   "metadata": {
    "ExecuteTime": {
     "end_time": "2018-01-19T02:24:24.502059Z",
     "start_time": "2018-01-19T02:24:24.497620Z"
    },
    "run_control": {
     "frozen": false,
     "read_only": false
    }
   },
   "outputs": [
    {
     "name": "stdout",
     "output_type": "stream",
     "text": [
      "{'x': 1.4999999999999991}\n"
     ]
    }
   ],
   "source": [
    "data = {'1*x': 2.0, 'x': 1.0}\n",
    "ls = linsolve.LinearSolver(data)\n",
    "sol = ls.solve()\n",
    "print sol"
   ]
  },
  {
   "cell_type": "markdown",
   "metadata": {
    "run_control": {
     "frozen": false,
     "read_only": false
    }
   },
   "source": [
    "However, you can provide weights through the `wgts` keyword argument. Weights are linear at the level of equations, so they can thought of as $1/\\sigma$ where $\\sigma$ is the noise on that equation (and thus have the inverse units as the data). "
   ]
  },
  {
   "cell_type": "code",
   "execution_count": 7,
   "metadata": {
    "ExecuteTime": {
     "end_time": "2018-01-19T02:24:24.508150Z",
     "start_time": "2018-01-19T02:24:24.503469Z"
    },
    "run_control": {
     "frozen": false,
     "read_only": false
    }
   },
   "outputs": [
    {
     "name": "stdout",
     "output_type": "stream",
     "text": [
      "{'x': 1.6666666666666665}\n"
     ]
    }
   ],
   "source": [
    "data = {'1*x': 2.0, 'x': (1.0/1.0)}\n",
    "wgts = {'1*x': 1.0, 'x': (1.0/np.sqrt(2))}\n",
    "ls = linsolve.LinearSolver(data, wgts=wgts)\n",
    "sol = ls.solve()\n",
    "print sol"
   ]
  },
  {
   "cell_type": "markdown",
   "metadata": {
    "run_control": {
     "frozen": false,
     "read_only": false
    }
   },
   "source": [
    "This solution, $x = 5/3$ is twice $(1/W^2)$ as close to $x=2$ as $x=1$. This is because it minimizes $\\chi^2$, defined as\n",
    "\n",
    "$\\chi^2 = \\sum_i \\frac{(d_i - m_i)^2}{\\sigma_i^2} = \\sum_i W_i^2 (d_i - m_i)^2$\n",
    "\n",
    "where $i$ indexes over equations, $d_i$ is the data (RHS), $m_i$ is the model (LHS evaluated at `sol`), and $W_i$ are the weights. We can calculate $\\chi^2$ with this handy function:"
   ]
  },
  {
   "cell_type": "code",
   "execution_count": 8,
   "metadata": {
    "ExecuteTime": {
     "end_time": "2018-01-19T02:24:24.512774Z",
     "start_time": "2018-01-19T02:24:24.509520Z"
    },
    "run_control": {
     "frozen": false,
     "read_only": false
    }
   },
   "outputs": [
    {
     "name": "stdout",
     "output_type": "stream",
     "text": [
      "0.333333333333\n"
     ]
    }
   ],
   "source": [
    "print ls.chisq(sol)"
   ]
  },
  {
   "cell_type": "markdown",
   "metadata": {},
   "source": [
    "Weighting allows for the implementation of inverse variance weighting, but assumes that the noise in each equation/measurement is independent (i.e. it does not allow for inverse *covariance* weighting)."
   ]
  },
  {
   "cell_type": "markdown",
   "metadata": {
    "run_control": {
     "frozen": false,
     "read_only": false
    }
   },
   "source": [
    "## Linearizing Systems of Equations \n",
    "\n",
    "`linsolve` is also able to solve very basic nonlinear systems of equations using either `LogProductSolver` or `LinProductSolver`.\n",
    "\n",
    "For background, see <https://en.wikipedia.org/wiki/Non-linear_least_squares>"
   ]
  },
  {
   "cell_type": "markdown",
   "metadata": {
    "run_control": {
     "frozen": false,
     "read_only": false
    }
   },
   "source": [
    "### `LogProductSolver` \n",
    "\n",
    "`LogProductSolver` can tackle a special class of non-linear equations where all terms are products. For example, we can solve\n",
    "\n",
    "$ab = 2 \\\\ bc = 1 \\\\ ac = 2$"
   ]
  },
  {
   "cell_type": "code",
   "execution_count": 9,
   "metadata": {
    "ExecuteTime": {
     "end_time": "2018-01-19T02:24:24.520085Z",
     "start_time": "2018-01-19T02:24:24.514453Z"
    },
    "run_control": {
     "frozen": false,
     "read_only": false
    }
   },
   "outputs": [
    {
     "name": "stdout",
     "output_type": "stream",
     "text": [
      "{'a': (1.9999999999999996+0j), 'c': (0.99999999999999989+0j), 'b': (1+0j)}\n"
     ]
    }
   ],
   "source": [
    "data = {'a*b': 2.0, 'b*c': 1.0, 'a*c': 2.0}\n",
    "lps = linsolve.LogProductSolver(data)\n",
    "sol = lps.solve()\n",
    "print sol"
   ]
  },
  {
   "cell_type": "markdown",
   "metadata": {
    "run_control": {
     "frozen": false,
     "read_only": false
    }
   },
   "source": [
    "This is acheived by reducing the problem to a linear system of equations by taking the logarithm of both sides. In the case of an overdetermined system of equation, this can produce biased results that do not always minimize $\\chi^2$. However, it is still useful as a starting guess for `LinProductSolver`.\n",
    "\n",
    "Just as with `LinearSolver`, `LogProductSolver` can take array systems, constants passed as keyword arguments, complex conjugated variables, and equation weighting."
   ]
  },
  {
   "cell_type": "markdown",
   "metadata": {
    "run_control": {
     "frozen": false,
     "read_only": false
    }
   },
   "source": [
    "### `LinProductSolver`\n",
    "\n",
    "`LinProductSolver` is a more general linearizer of equations. It can tackle equations that are sums (or differences) of products of variables (no quotients, powers, exponents, etc.). Parentheses are not allowed; the user is expected to expand manually. For example, `LinProductSolver` can tackle equations of the form:\n",
    "\n",
    "$10ab + 3bc - 2ac = 32 \\\\ 2aa + 3bb - 2cc = -4 \\\\ -aa + 2bc + ac = 14$\n",
    "\n",
    "\n",
    "It uses the [Gauss-Newton](https://en.wikipedia.org/wiki/Gauss%E2%80%93Newton_algorithm) to find a solution that minimzes $\\chi^2$ (thought it may not be unique). This is an second-order iterative algorithm whose success depends on a decent initial guess `sol0`, formatted the same way as all `linsolve` solutions. For example, the equation solved at each step is a taylor expansion about `sol0`, which for the first e the first equation gives\n",
    "\n",
    "$10(a_0+\\Delta a)(b_0+\\Delta b) + 3(b_0 + \\Delta b)(c_0 + \\Delta c) - 2(a_0 + \\Delta a)(c_0 + \\Delta c) = 32 \\\\ 10a\\Delta b + 10b\\Delta a + 3b\\Delta c + 3c \\Delta b - 2a\\Delta c - 2c\\Delta a + \\mathcal{O}(\\Delta^2) = 32 - 10a_0b_0 + 3b_0c_0 - 2a_0c_0$ \n",
    "\n",
    "`LinProductSolver` then solves for all the $\\Delta$ terms and updates `sol0` to `sol` accordingly. Just as with `LinearSolver`, `LinProductSolver` can take array systems, constants passed as keyword arguments, complex conjugated variables, and equation weighting."
   ]
  },
  {
   "cell_type": "code",
   "execution_count": 10,
   "metadata": {
    "ExecuteTime": {
     "end_time": "2018-01-19T02:24:24.533306Z",
     "start_time": "2018-01-19T02:24:24.521637Z"
    },
    "run_control": {
     "frozen": false,
     "read_only": false
    }
   },
   "outputs": [
    {
     "name": "stdout",
     "output_type": "stream",
     "text": [
      "{'a': 0.99999999999999989, 'c': 3.0, 'b': 2.0}\n"
     ]
    }
   ],
   "source": [
    "data = {'10*a*b + 3*b*c - 2*a*c': 32, \n",
    "        '2*a*a +3*b*b -2*c*c': -4,\n",
    "        '-a*a + 2*b*c + a*c': 14}\n",
    "sol0 = {'a': .9, 'b': 2.1, 'c': 3.2}\n",
    "lps = linsolve.LinProductSolver(data, sol0)\n",
    "meta, sol = lps.solve_iteratively()\n",
    "print sol"
   ]
  },
  {
   "cell_type": "markdown",
   "metadata": {},
   "source": [
    "`LinProductSolver.solve_iteratively()` produces both a solution dictionary in the standard `linsolve` format, but also produces `meta`, a metadata dictionary that contains:\n",
    "\n",
    "* `conv_crit`: A convergence criterion (default `1e-10`) below which to stop iterating. Converegence is measured $\\ell^2$-norm of the change in the solution of all the variables since the previous iteration divided by the $\\ell^2$-norm of the solution itself.\n",
    "* `chisq`: $\\chi^2$ as calculated above for the final iteration\n",
    "* `iter`: the number of iterations ran. The iterative solver runs until until either convergence or `maxiter` is hit (default 50)."
   ]
  },
  {
   "cell_type": "code",
   "execution_count": 11,
   "metadata": {
    "ExecuteTime": {
     "end_time": "2018-01-19T02:24:24.537989Z",
     "start_time": "2018-01-19T02:24:24.534678Z"
    },
    "run_control": {
     "frozen": false,
     "read_only": false
    }
   },
   "outputs": [
    {
     "name": "stdout",
     "output_type": "stream",
     "text": [
      "{'conv_crit': 2.9177784203741434e-13, 'chisq': 1.2552493563396059e-22, 'iter': 4}\n"
     ]
    }
   ],
   "source": [
    "print meta"
   ]
  },
  {
   "cell_type": "markdown",
   "metadata": {},
   "source": [
    "#### One Caveat About Variable Names in `LinProductSolver`\n",
    "\n",
    "One should avoid having variables that differ from each other by only a starting `d`, e.g. `dram` and `ram`. Internally, `LinProductSolver` performs a Taylor expansion, treating the variables in `sol0` as constants and creating a corresponding set of variables representing differential adjustments that have a `d` prepended."
   ]
  }
 ],
 "metadata": {
  "kernelspec": {
   "display_name": "Python 2",
   "language": "python",
   "name": "python2"
  },
  "language_info": {
   "codemirror_mode": {
    "name": "ipython",
    "version": 2
   },
   "file_extension": ".py",
   "mimetype": "text/x-python",
   "name": "python",
   "nbconvert_exporter": "python",
   "pygments_lexer": "ipython2",
   "version": "2.7.13"
  }
 },
 "nbformat": 4,
 "nbformat_minor": 2
}
